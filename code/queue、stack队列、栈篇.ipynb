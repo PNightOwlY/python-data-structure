{
 "cells": [
  {
   "cell_type": "markdown",
   "metadata": {},
   "source": [
    "队列和栈是两种比较特殊的数据结构，队列很好理解，先进先出。栈正好相反，先进后出。"
   ]
  },
  {
   "cell_type": "code",
   "execution_count": 45,
   "metadata": {},
   "outputs": [
    {
     "name": "stdout",
     "output_type": "stream",
     "text": [
      "0,1,2,3,4,5,6,7,8,9,"
     ]
    }
   ],
   "source": [
    "import queue\n",
    "# 初始队列\n",
    "q = queue.Queue()\n",
    "\n",
    "# 往队列中添加元素\n",
    "for i in range(10):\n",
    "    q.put(i)\n",
    "\n",
    "# 出队列\n",
    "while not q.empty():    \n",
    "    print(q.get(),end=',')"
   ]
  },
  {
   "cell_type": "code",
   "execution_count": 38,
   "metadata": {},
   "outputs": [
    {
     "name": "stdout",
     "output_type": "stream",
     "text": [
      "队列的长度为: 20\n",
      "队列是否为空: False\n",
      "队列是否满了: True\n"
     ]
    }
   ],
   "source": [
    "# 介绍一下队列的几个常用方法\n",
    "# 初始队列，队列的最大长度为20\n",
    "q = queue.Queue(20)\n",
    "\n",
    "# 往队列中添加元素\n",
    "for i in range(20):\n",
    "    q.put(i)\n",
    "\n",
    "# 1. 队列长度    \n",
    "size = q.qsize()\n",
    "print(f\"队列的长度为: {size}\")\n",
    "\n",
    "# 2. 队列是否为空\n",
    "empty = q.empty()\n",
    "print(f\"队列是否为空: {empty}\")\n",
    "\n",
    "# 3. 队列是否满了\n",
    "full = q.full()\n",
    "print(f\"队列是否满了: {full}\")\n",
    "\n",
    "# 4. 队列满了之后，再往里面插的话，会阻塞队列,一直进入等待区。\n",
    "# q.put(21)"
   ]
  },
  {
   "cell_type": "code",
   "execution_count": 44,
   "metadata": {},
   "outputs": [
    {
     "name": "stdout",
     "output_type": "stream",
     "text": [
      "---------- Priority Queue ----------\n",
      "1,2,3,4\n",
      "---------- heapq ----------\n",
      "1,2,3,4\n",
      "---------- Max heap ----------\n",
      "4,3,2,1,"
     ]
    }
   ],
   "source": [
    "# 优先队列实现的小顶堆\n",
    "priority_queue = queue.PriorityQueue()\n",
    "\n",
    "priority_queue.put(3)\n",
    "priority_queue.put(1)\n",
    "priority_queue.put(4)\n",
    "priority_queue.put(2)\n",
    "\n",
    "print(\"-\"*10, \"Priority Queue\", \"-\"*10)\n",
    "print(priority_queue.get(),end=',')\n",
    "print(priority_queue.get(),end=',')\n",
    "print(priority_queue.get(),end=',')\n",
    "print(priority_queue.get())\n",
    "\n",
    "\n",
    "# heapq 实现的是小顶堆\n",
    "import heapq\n",
    "heap = []\n",
    "heapq.heappush(heap, 3)\n",
    "heapq.heappush(heap, 1)\n",
    "heapq.heappush(heap, 4)\n",
    "heapq.heappush(heap, 2)\n",
    "\n",
    "print(\"-\"*10, \"heapq\", \"-\"*10)\n",
    "print(heapq.heappop(heap),end=',')\n",
    "print(heapq.heappop(heap),end=',')\n",
    "print(heapq.heappop(heap),end=',')\n",
    "print(heapq.heappop(heap))\n",
    "\n",
    "\n",
    "\n",
    "# 大顶堆的实现 --这里用优先队列举例\n",
    "nums = [3,1,4,2]\n",
    "max_heap = queue.PriorityQueue()\n",
    "\n",
    "for num in nums:\n",
    "    max_heap.put(-num)\n",
    "print(\"-\"*10, \"Max heap\", \"-\"*10)\n",
    "while not max_heap.empty():\n",
    "    print(-max_heap.get(),end=',')"
   ]
  },
  {
   "cell_type": "markdown",
   "metadata": {},
   "source": [
    "栈 stack"
   ]
  },
  {
   "cell_type": "code",
   "execution_count": 57,
   "metadata": {},
   "outputs": [
    {
     "name": "stdout",
     "output_type": "stream",
     "text": [
      "[1, 4, 5, 6, 3, 2]\n",
      "[1, 4, 5, 6]\n",
      "4\n",
      "[1, 5, 6]\n",
      "栈顶 6\n"
     ]
    }
   ],
   "source": [
    "# 用列表实现栈在前面的list部分已经提到了，这里给出样例\n",
    "stack = [1,4,5,6,3,2]\n",
    "print(stack)\n",
    "\n",
    "for i in range(2):\n",
    "    stack.pop()\n",
    "    \n",
    "print(stack)\n",
    "\n",
    "# 按下标出栈\n",
    "print(stack.pop(1))\n",
    "print(stack)\n",
    "\n",
    "# 栈顶\n",
    "print(\"栈顶\", stack[-1])"
   ]
  },
  {
   "cell_type": "code",
   "execution_count": 78,
   "metadata": {},
   "outputs": [
    {
     "name": "stdout",
     "output_type": "stream",
     "text": [
      "deque([1, 3, 5, 7, 1])\n",
      "\n",
      "-----加入栈尾-----\n",
      "deque([0, 1, 3, 5, 7, 1])\n",
      "1 的个数为 2\n",
      "\n",
      "-----栈尾出栈-----\n",
      "deque([1, 3, 5, 7, 1])\n",
      "\n",
      "-----反转栈-----\n",
      "deque([1, 7, 5, 3, 1])\n",
      "\n",
      "-----栈的长度-----\n",
      "5\n"
     ]
    }
   ],
   "source": [
    "# deque实现栈，队列\n",
    "from collections import deque\n",
    "\n",
    "stack = deque()\n",
    "stack.append(1)\n",
    "stack.append(3)\n",
    "stack.append(5)\n",
    "stack.append(7)\n",
    "stack.append(1)\n",
    "\n",
    "print(stack)\n",
    "\n",
    "# 加入栈尾\n",
    "print(\"\\n-----加入栈尾-----\")\n",
    "stack.appendleft(0)\n",
    "print(stack)\n",
    "print(f\"1 的个数为 {stack.count(1)}\")\n",
    "\n",
    "# 栈尾出栈\n",
    "print(\"\\n-----栈尾出栈-----\")\n",
    "stack.popleft()\n",
    "print(stack)\n",
    "\n",
    "# 反转栈\n",
    "print(\"\\n-----反转栈-----\")\n",
    "stack.reverse()\n",
    "print(stack)\n",
    "\n",
    "print(\"\\n-----栈的长度-----\")\n",
    "print(len(stack))\n"
   ]
  },
  {
   "cell_type": "code",
   "execution_count": null,
   "metadata": {},
   "outputs": [],
   "source": []
  }
 ],
 "metadata": {
  "kernelspec": {
   "display_name": "Python 3",
   "language": "python",
   "name": "python3"
  },
  "language_info": {
   "codemirror_mode": {
    "name": "ipython",
    "version": 3
   },
   "file_extension": ".py",
   "mimetype": "text/x-python",
   "name": "python",
   "nbconvert_exporter": "python",
   "pygments_lexer": "ipython3",
   "version": "3.7.8"
  }
 },
 "nbformat": 4,
 "nbformat_minor": 2
}
