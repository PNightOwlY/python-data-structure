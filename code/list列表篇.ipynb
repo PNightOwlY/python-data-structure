{
 "cells": [
  {
   "cell_type": "markdown",
   "metadata": {},
   "source": [
    "# List 列表\n",
    "### 1. 列表是最基本的数据结构，可以当作栈来使用，也可以存入不同类型的数据，例如同一个列表可存入字符，数字，还有列表等等。"
   ]
  },
  {
   "cell_type": "code",
   "execution_count": 1,
   "metadata": {},
   "outputs": [
    {
     "name": "stdout",
     "output_type": "stream",
     "text": [
      "Mylist [1, 2, 3]\n",
      "Mixed [1, 'Hello', ['World', '!!!', 999]]\n"
     ]
    }
   ],
   "source": [
    "mylist = [1,2,3]\n",
    "print(f\"Mylist {mylist}\")\n",
    "\n",
    "mylist = [1,\"Hello\",[\"World\", \"!!!\", 999]]\n",
    "print(f\"Mixed {mylist}\")"
   ]
  },
  {
   "cell_type": "markdown",
   "metadata": {},
   "source": [
    "### 2. 创建list的两种方法"
   ]
  },
  {
   "cell_type": "code",
   "execution_count": 2,
   "metadata": {},
   "outputs": [
    {
     "name": "stdout",
     "output_type": "stream",
     "text": [
      "[] []\n",
      "[3, 4, 5]\n",
      "反转前 [2, 3, 4, 5]\n",
      "反转后 [5, 4, 3, 2]\n",
      "反转前 [2, 3, 4, 5]\n",
      "反转后 [5, 4, 3, 2]\n"
     ]
    }
   ],
   "source": [
    "mylist1 = []\n",
    "mylist2 = list()\n",
    "\n",
    "print(mylist1, mylist2)\n",
    "\n",
    "mylist = [2,3,4,5]\n",
    "\n",
    "# 切片：取列表的部分元素, 左闭右开\n",
    "print(mylist[1:4])\n",
    "\n",
    "# 反转列表\n",
    "print(\"反转前\",mylist)\n",
    "print(\"反转后\",mylist[::-1]) # 不在原地址反转\n",
    "print(\"反转前\",mylist)\n",
    "mylist.reverse() # 在原地址上修改\n",
    "print(\"反转后\",mylist)"
   ]
  },
  {
   "cell_type": "markdown",
   "metadata": {},
   "source": [
    "### 3. 增删查改"
   ]
  },
  {
   "cell_type": "markdown",
   "metadata": {},
   "source": [
    "#### 3.1 增加"
   ]
  },
  {
   "cell_type": "code",
   "execution_count": 3,
   "metadata": {},
   "outputs": [
    {
     "name": "stdout",
     "output_type": "stream",
     "text": [
      "----------插入操作----------\n",
      "\n",
      "原列表:[5, 6, 7, 8]\n",
      "在尾部插入[5, 6, 7, 8, 6]\n",
      "\n",
      "原列表:[5, 6, 7, 8]\n",
      "在值插入0位置 [0, 5, 6, 7, 8]\n"
     ]
    }
   ],
   "source": [
    "# 增操作\n",
    "mark = \"-\"\n",
    "print(f\"{mark*10}插入操作{mark*10}\")\n",
    "# 1. 在末尾插入\n",
    "mylist = [5,6,7,8]\n",
    "print(f\"\\n原列表:{mylist}\")\n",
    "mylist.append(6)\n",
    "print(f\"在尾部插入{mylist}\")\n",
    "\n",
    "# 2. 在指定位置插入\n",
    "mylist = [5,6,7,8]\n",
    "print(f\"\\n原列表:{mylist}\")\n",
    "mylist.insert(0, 0)\n",
    "print(f\"在值插入0位置 {mylist}\")"
   ]
  },
  {
   "cell_type": "markdown",
   "metadata": {},
   "source": [
    "#### 3.2 删除"
   ]
  },
  {
   "cell_type": "code",
   "execution_count": 4,
   "metadata": {},
   "outputs": [
    {
     "name": "stdout",
     "output_type": "stream",
     "text": [
      "----------删除操作----------\n",
      "\n",
      "原列表:[5, 6, 7, 8]\n",
      "删除值为6的值:[5, 7, 8]\n",
      "\n",
      "原列表:[5, 6, 7, 8]\n",
      "删除索引为1的值:[5, 7, 8]\n",
      "\n",
      "原列表:[5, 6, 7, 8]\n",
      "推出列表顶部位置:[5, 6, 7]\n",
      "\n",
      "原列表:[5, 6, 7, 8]\n",
      "推出列表索引为2的值:[5, 6, 8]\n"
     ]
    }
   ],
   "source": [
    "# 删除操作\n",
    "print(f\"{mark*10}删除操作{mark*10}\")\n",
    "# 1. 按照值来删除, remove 操作会找到列表中第一个符合该值的元素删除，所以最好还是使用索引删除\n",
    "mylist = [5,6,7,8]\n",
    "print(f\"\\n原列表:{mylist}\")\n",
    "mylist.remove(6)\n",
    "print(f\"删除值为6的值:{mylist}\")\n",
    "\n",
    "# 2. 按照索引删除\n",
    "mylist = [5,6,7,8]\n",
    "print(f\"\\n原列表:{mylist}\")\n",
    "del mylist[1]\n",
    "print(f\"删除索引为1的值:{mylist}\")\n",
    "\n",
    "# 3. 推出列表顶部位置\n",
    "mylist = [5,6,7,8]\n",
    "print(f\"\\n原列表:{mylist}\")\n",
    "mylist.pop()\n",
    "print(f\"推出列表顶部位置:{mylist}\")\n",
    "\n",
    "# 4. 按索引pop\n",
    "mylist = [5,6,7,8]\n",
    "print(f\"\\n原列表:{mylist}\")\n",
    "mylist.pop(2)\n",
    "print(f\"推出列表索引为2的值:{mylist}\")"
   ]
  },
  {
   "cell_type": "markdown",
   "metadata": {},
   "source": [
    "#### 3.3 查找"
   ]
  },
  {
   "cell_type": "code",
   "execution_count": 5,
   "metadata": {},
   "outputs": [
    {
     "name": "stdout",
     "output_type": "stream",
     "text": [
      "----------查找操作----------\n",
      "\n",
      "原列表:[5, 6, 7, 8]\n",
      "6 7\n",
      "\n",
      "原列表:[5, 6, 7, 8]\n",
      "8 7\n",
      "\n",
      "原列表:[5, 6, 7, 8, 5]\n",
      "5 在列表:[5, 6, 7, 8, 5]中,  True\n",
      "5 不在列表:[5, 6, 7, 8, 5]中,  False\n",
      "5 在列表中的索引为0\n",
      "5 在列表中的索引为4\n"
     ]
    }
   ],
   "source": [
    "# 查找操作\n",
    "print(f\"{mark*10}查找操作{mark*10}\")\n",
    "\n",
    "# 1. 按索引正序查找\n",
    "mylist = [5,6,7,8]\n",
    "print(f\"\\n原列表:{mylist}\")\n",
    "print(mylist[1], mylist[2])\n",
    "\n",
    "# 2. 按索引逆序查找, -1表示最后一个，-2表示倒数第二，以此类推\n",
    "mylist = [5,6,7,8]\n",
    "print(f\"\\n原列表:{mylist}\")\n",
    "print(mylist[-1],mylist[-2])\n",
    "\n",
    "# 3. 判断是否在列表中\n",
    "mylist = [5,6,7,8,5]\n",
    "print(f\"\\n原列表:{mylist}\")\n",
    "print(f\"5 在列表:{mylist}中, \",5 in mylist)\n",
    "print(f\"5 不在列表:{mylist}中, \",5 not in mylist)\n",
    "\n",
    "# 在列表从左往右，找到第一个就返回\n",
    "print(f\"5 在列表中的索引为{mylist.index(5)}\")\n",
    "\n",
    "# 在切片位置中，2：5 左开右闭\n",
    "print(f\"5 在列表中的索引为{mylist.index(5, 2,5)}\")"
   ]
  },
  {
   "cell_type": "markdown",
   "metadata": {},
   "source": [
    "#### 3.4 改值\n"
   ]
  },
  {
   "cell_type": "code",
   "execution_count": 6,
   "metadata": {},
   "outputs": [
    {
     "name": "stdout",
     "output_type": "stream",
     "text": [
      "----------改值操作----------\n",
      "\n",
      "原列表:[5, 6, 7, 8]\n",
      "[5, 0, 7, 8]\n",
      "\n",
      "原列表:[5, 6, 7, 8]\n",
      "[5, 2, 1, 8]\n"
     ]
    }
   ],
   "source": [
    "# 按索引改值\n",
    "print(f\"{mark*10}改值操作{mark*10}\")\n",
    "\n",
    "# 1. 按索引正序查找\n",
    "mylist = [5,6,7,8]\n",
    "print(f\"\\n原列表:{mylist}\")\n",
    "mylist[1] = 0\n",
    "print(mylist)\n",
    "\n",
    "# 2. 切片改值\n",
    "mylist = [5,6,7,8]\n",
    "print(f\"\\n原列表:{mylist}\")\n",
    "mylist[1:3] = [2,1]\n",
    "print(mylist)"
   ]
  },
  {
   "cell_type": "markdown",
   "metadata": {},
   "source": [
    "### 4. 排序\n"
   ]
  },
  {
   "cell_type": "code",
   "execution_count": 7,
   "metadata": {},
   "outputs": [
    {
     "name": "stdout",
     "output_type": "stream",
     "text": [
      "----------排序操作----------\n",
      "\n",
      "原列表:[4, 3, 2, 1, 5]\n",
      "[1, 2, 3, 4, 5]\n",
      "\n",
      "原列表:[4, 3, 2, 1, 5]\n",
      "[4, 3, 2, 1, 5]\n",
      "[1, 2, 3, 4, 5]\n",
      "\n",
      "原列表:[4, 3, 2, 1, 5]\n",
      "升序: [1, 2, 3, 4, 5]\n",
      "降序 [5, 4, 3, 2, 1]\n",
      "\n",
      "原列表:[[2, 1], [3, 2], [0, 1], [4, 7]]\n",
      "按第一个元素升序: [[0, 1], [2, 1], [3, 2], [4, 7]]\n",
      "按第二个元素降序: [[4, 7], [3, 2], [0, 1], [2, 1]]\n",
      "\n",
      "原列表:[[2, 1], [3, 2], [0, 1], [4, 7], [4, 5], [2, -1]]\n",
      "按第一个元素升序,如果相同，按第二个元素升序: [[0, 1], [2, -1], [2, 1], [3, 2], [4, 5], [4, 7]]\n",
      "按第一个元素升序,如果相同，按第二个元素降序: [[0, 1], [2, 1], [2, -1], [3, 2], [4, 7], [4, 5]]\n"
     ]
    }
   ],
   "source": [
    "print(f\"{mark*10}排序操作{mark*10}\")\n",
    "\n",
    "# 1. sort 直接在地址修改没有返回值\n",
    "mylist = [4,3,2,1,5]\n",
    "print(f\"\\n原列表:{mylist}\")\n",
    "mylist.sort()\n",
    "print(mylist)\n",
    "\n",
    "# 2. sorted 创建新的数组，原数组不变\n",
    "mylist = [4,3,2,1,5]\n",
    "print(f\"\\n原列表:{mylist}\")\n",
    "mylist2 = sorted(mylist)\n",
    "print(mylist)\n",
    "print(mylist2)\n",
    "\n",
    "# 3. lambda 表达式\n",
    "mylist = [4,3,2,1,5]\n",
    "print(f\"\\n原列表:{mylist}\")\n",
    "mylist.sort(key=lambda x: x)\n",
    "print(\"升序:\",mylist)\n",
    "mylist.sort(key=lambda x: -x)\n",
    "print(\"降序\", mylist)\n",
    "\n",
    "# 4. lambda 表达式\n",
    "# 二维数组\n",
    "mylist = [[2,1],[3,2],[0,1],[4,7]]\n",
    "print(f\"\\n原列表:{mylist}\")\n",
    "mylist.sort(key=lambda x: x[0])\n",
    "print(\"按第一个元素升序:\",mylist)\n",
    "mylist.sort(key=lambda x: -x[1])\n",
    "print(\"按第二个元素降序:\",mylist)\n",
    "\n",
    "mylist = [[2,1],[3,2],[0,1],[4,7],[4,5],[2,-1]]\n",
    "print(f\"\\n原列表:{mylist}\")\n",
    "mylist.sort(key=lambda x:[x[0],x[1]])\n",
    "print(\"按第一个元素升序,如果相同，按第二个元素升序:\",mylist)\n",
    "\n",
    "mylist.sort(key=lambda x:[x[0],-x[1]])\n",
    "print(\"按第一个元素升序,如果相同，按第二个元素降序:\",mylist)"
   ]
  },
  {
   "cell_type": "markdown",
   "metadata": {},
   "source": [
    "#### 5. 计数"
   ]
  },
  {
   "cell_type": "code",
   "execution_count": 8,
   "metadata": {
    "scrolled": true
   },
   "outputs": [
    {
     "name": "stdout",
     "output_type": "stream",
     "text": [
      "原列表 [1, 2, 3, 5, 5, 5, 4, 3, 2]\n",
      "5 在列表中出现的次数为3\n",
      "Counter({5: 3, 2: 2, 3: 2, 1: 1, 4: 1})\n"
     ]
    }
   ],
   "source": [
    "print(f\"{mark*10}计数操作{mark*10}\")\n",
    "\n",
    "# 统计元素a在列表中出现的次数\n",
    "a = 5\n",
    "mylist = [1,2,3,5,5,5,4,3,2]\n",
    "time = mylist.count(a)\n",
    "print(\"原列表\", mylist)\n",
    "print(f\"{a} 在列表中出现的次数为{time}\")\n",
    "\n",
    "# Counter: 统计每一个元素出现的次数\n",
    "# 并生成字典，key为element， value 为次数\n",
    "from collections import Counter\n",
    "freq = Counter(mylist)\n",
    "print(freq)"
   ]
  },
  {
   "cell_type": "markdown",
   "metadata": {},
   "source": [
    "#### 6. stack 操作\n",
    "先进后出，first in last out"
   ]
  },
  {
   "cell_type": "code",
   "execution_count": 11,
   "metadata": {},
   "outputs": [
    {
     "name": "stdout",
     "output_type": "stream",
     "text": [
      "----------栈操作----------\n",
      "[1, -1]\n",
      "[1]\n",
      "1\n"
     ]
    }
   ],
   "source": [
    "print(f\"{mark*10}栈操作{mark*10}\")\n",
    "\n",
    "stack = []\n",
    "    \n",
    "# 入栈\n",
    "stack.append(1)\n",
    "stack.append(-1)\n",
    "print(stack)\n",
    "\n",
    "# 出栈\n",
    "stack.pop()\n",
    "print(stack)\n",
    "\n",
    "# 栈大小\n",
    "print(len(stack))"
   ]
  },
  {
   "cell_type": "markdown",
   "metadata": {},
   "source": [
    "#### 7. 堆操作 \n",
    "1. 大顶堆：每个节点(叶节点除外)的值都大于等于其子节点的值，根节点的值是所有节点中最大的。\n",
    "\n",
    "2. 小顶堆：每个节点(叶节点除外)的值都小于等于其子节点的值，根节点的值是所有节点中最小的。\n",
    "\n",
    "参考：https://blog.csdn.net/weixin_43790276/article/details/107741332"
   ]
  },
  {
   "cell_type": "code",
   "execution_count": 29,
   "metadata": {},
   "outputs": [
    {
     "name": "stdout",
     "output_type": "stream",
     "text": [
      "----------堆操作----------\n",
      "[12, 14, 16, 3, 2, 5, 1]\n",
      "[1, 3, 2, 14, 12, 16, 5]\n",
      "[1, 2, 5, 3, 14, 12, 16]\n",
      "两者存在小差异，但不影响堆的操作\n",
      "\n",
      "1 1\n",
      "2 2\n",
      "3 3\n",
      "5 5\n",
      "12 12\n",
      "14 14\n",
      "16 16\n"
     ]
    }
   ],
   "source": [
    "print(f\"{mark*10}堆操作{mark*10}\")\n",
    "\n",
    "import heapq\n",
    "mylist = [12,14,16,3,2,5,1]\n",
    "heap = []\n",
    "\n",
    "for ele in mylist:\n",
    "    heapq.heappush(heap, ele)\n",
    "print(mylist)\n",
    "print(heap)\n",
    "# 直接将列表转成堆\n",
    "heapq.heapify(mylist)\n",
    "print(mylist)\n",
    "print(\"两者存在小差异，但不影响堆的操作\\n\")\n",
    "\n",
    "for _ in range(len(mylist)):\n",
    "    # 取出堆顶\n",
    "    print(heapq.heappop(heap), heapq.heappop(mylist))"
   ]
  },
  {
   "cell_type": "code",
   "execution_count": null,
   "metadata": {},
   "outputs": [],
   "source": []
  }
 ],
 "metadata": {
  "kernelspec": {
   "display_name": "Python 3",
   "language": "python",
   "name": "python3"
  },
  "language_info": {
   "codemirror_mode": {
    "name": "ipython",
    "version": 3
   },
   "file_extension": ".py",
   "mimetype": "text/x-python",
   "name": "python",
   "nbconvert_exporter": "python",
   "pygments_lexer": "ipython3",
   "version": "3.7.8"
  }
 },
 "nbformat": 4,
 "nbformat_minor": 2
}
