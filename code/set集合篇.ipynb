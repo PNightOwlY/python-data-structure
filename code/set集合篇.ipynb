{
 "cells": [
  {
   "cell_type": "markdown",
   "metadata": {},
   "source": [
    "Set是一种常见的数据结构，在数学上的定义是，没有重复的元素的序列；"
   ]
  },
  {
   "cell_type": "code",
   "execution_count": 17,
   "metadata": {},
   "outputs": [
    {
     "name": "stdout",
     "output_type": "stream",
     "text": [
      "---------- 创建集合 ----------\n",
      "set()\n",
      "{}\n",
      "<class 'set'>\n",
      "<class 'dict'>\n",
      "<class 'set'>\n"
     ]
    },
    {
     "data": {
      "text/plain": [
       "1670"
      ]
     },
     "execution_count": 17,
     "metadata": {},
     "output_type": "execute_result"
    }
   ],
   "source": [
    "import gc\n",
    "print(\"-\"*10,\"创建集合\",\"-\"*10)\n",
    "myset1 = set()\n",
    "myset2 = {}\n",
    "\n",
    "print(myset1)\n",
    "print(myset2)\n",
    "print(type(myset1))\n",
    "print(type(myset2))\n",
    "\n",
    "# note:这里初始化集合有两种形式，但是使用大括号默认是dict属性，所以如果要用大括号，则必须要在括号内加入元素\n",
    "myset3 = {1,2}\n",
    "print(type(myset3))\n",
    "\n",
    "del myset1, myset2, myset3\n",
    "gc.collect()"
   ]
  },
  {
   "cell_type": "markdown",
   "metadata": {},
   "source": [
    "## 添加操作"
   ]
  },
  {
   "cell_type": "code",
   "execution_count": 77,
   "metadata": {},
   "outputs": [
    {
     "name": "stdout",
     "output_type": "stream",
     "text": [
      "---------- 集合添加 ----------\n",
      "\n",
      "初始化集合 set()\n",
      "\n",
      "加入元素 {1, 2, 3}\n",
      "\n",
      "重复加入元素 {1, 2, 3}\n",
      "{1, 2, 3, 6, 11}\n",
      "{'c', 'a', 'e', 'b'}\n"
     ]
    }
   ],
   "source": [
    "print(\"-\"*10,\"集合添加\",\"-\"*10)\n",
    "myset = set()\n",
    "print(\"\\n初始化集合\",myset)\n",
    "myset.add(2)\n",
    "myset.update([3,1])\n",
    "print(\"\\n加入元素\", myset)\n",
    "\n",
    "\n",
    "# 1. 去重性\n",
    "# 重复加入元素\n",
    "myset.add(2)\n",
    "print(\"\\n重复加入元素\",myset)\n",
    "\n",
    "# 2. 无序性\n",
    "# 集合有自己的排列方法，不会按照插入的顺序排列\n",
    "myset.add(3)\n",
    "myset.add(1)\n",
    "myset.add(6)\n",
    "myset.add(11)\n",
    "print(myset)\n",
    "\n",
    "# 试一下字母\n",
    "myset.clear()\n",
    "myset.add('b')\n",
    "myset.add('a')\n",
    "myset.add('c')\n",
    "myset.add('e')\n",
    "print(myset)"
   ]
  },
  {
   "cell_type": "markdown",
   "metadata": {},
   "source": [
    "## 删除操作\n",
    "删除有两种操作\n",
    "1. set.discard(x) # 元素不存在也不会报错\n",
    "2. set.remove(x) # 元素不存在会报错\n"
   ]
  },
  {
   "cell_type": "code",
   "execution_count": 81,
   "metadata": {},
   "outputs": [
    {
     "name": "stdout",
     "output_type": "stream",
     "text": [
      "---------- 集合删除 ----------\n",
      "\n",
      "初始化集合 {1, 2, 3}\n",
      "{3}\n",
      "---------- 清空集合 ----------\n",
      "set()\n"
     ]
    }
   ],
   "source": [
    "print(\"-\"*10,\"集合删除\",\"-\"*10)\n",
    "myset = set([1,2,3])\n",
    "print(\"\\n初始化集合\",myset)\n",
    "myset.discard(1)\n",
    "myset.remove(2)\n",
    "print(myset)\n",
    "\n",
    "# 清空集合\n",
    "print(\"-\"*10,\"清空集合\",\"-\"*10)\n",
    "myset.clear()\n",
    "print(myset)"
   ]
  },
  {
   "cell_type": "markdown",
   "metadata": {},
   "source": [
    "## 查找操作"
   ]
  },
  {
   "cell_type": "code",
   "execution_count": 78,
   "metadata": {},
   "outputs": [
    {
     "name": "stdout",
     "output_type": "stream",
     "text": [
      "---------- 集合查找 ----------\n",
      "\n",
      "初始化集合 {1, 2, 3}\n",
      "True\n",
      "True\n"
     ]
    }
   ],
   "source": [
    "print(\"-\"*10,\"集合查找\",\"-\"*10)\n",
    "myset = set([1,2,3])\n",
    "print(\"\\n初始化集合\",myset)\n",
    "\n",
    "print(1 in myset)\n",
    "print(4 not in myset)"
   ]
  },
  {
   "cell_type": "markdown",
   "metadata": {},
   "source": [
    "## 集合遍历"
   ]
  },
  {
   "cell_type": "code",
   "execution_count": 79,
   "metadata": {},
   "outputs": [
    {
     "name": "stdout",
     "output_type": "stream",
     "text": [
      "---------- 集合遍历 ----------\n",
      "\n",
      "初始化集合 {1, 2, 3} \n",
      "\n",
      "---------- 打印集合 ----------\n",
      "1\n",
      "2\n",
      "3\n"
     ]
    }
   ],
   "source": [
    "print(\"-\"*10,\"集合遍历\",\"-\"*10)\n",
    "myset = set([1,2,3])\n",
    "print(\"\\n初始化集合\",myset,\"\\n\")\n",
    "print(\"-\"*10,\"打印集合\",\"-\"*10)\n",
    "for ele in myset:\n",
    "    print(ele)"
   ]
  },
  {
   "cell_type": "markdown",
   "metadata": {},
   "source": [
    "\n",
    "## 集合运算"
   ]
  },
  {
   "cell_type": "code",
   "execution_count": 82,
   "metadata": {
    "scrolled": false
   },
   "outputs": [
    {
     "name": "stdout",
     "output_type": "stream",
     "text": [
      "---------- 集合运算 ----------\n",
      "\n",
      "初始化集合1 {1, 2, 3} \n",
      "\n",
      "\n",
      "初始化集合2 {2, 3, 4} \n",
      "\n",
      "---------- 集合并集 ----------\n",
      "{1, 2, 3, 4} \n",
      "\n",
      "---------- 集合交集 ----------\n",
      "{2, 3} \n",
      "\n",
      "---------- 集合差集 ----------\n",
      "{1, 2, 3} 与 ({1, 2, 3} 和 {2, 3, 4} 的交集) 的差集\n",
      "{1} \n",
      "\n",
      "---------- 集合对称差集 ----------\n",
      "({1, 2, 3} 和 {2, 3, 4} 的并集) 与 ({1, 2, 3} 和 {2, 3, 4} 的交集) 的差集\n",
      "{1, 4} \n",
      "\n",
      "---------- 创建集合 ----------\n",
      "并集 {1, 2, 3, 4, 5, 6, 7, 8, 10, 11, 12, 13, 18, 22, 25, 34, 44}\n",
      "交集 {2, 3, 34}\n",
      "差集 {1, 5, 6, 7, 8, 10, 12}\n",
      "对称差集 {1, 4, 5, 6, 7, 8, 10, 11, 44, 13, 12, 18, 22, 25}\n",
      "0.0006961822509765625\n",
      "并集 {1, 2, 3, 4, 5, 6, 7, 8, 10, 11, 12, 13, 18, 22, 25, 34, 44}\n",
      "交集 {2, 3, 34}\n",
      "差集 {1, 5, 6, 7, 8, 10, 12}\n",
      "对称差集 {1, 4, 5, 6, 7, 8, 10, 11, 44, 13, 12, 18, 22, 25}\n",
      "0.00032210350036621094\n"
     ]
    }
   ],
   "source": [
    "print(\"-\"*10,\"集合运算\",\"-\"*10)\n",
    "myset1 = set([1,2,3])\n",
    "myset2 = set([2,3,4])\n",
    "print(\"\\n初始化集合1\",myset1,\"\\n\")\n",
    "print(\"\\n初始化集合2\",myset2,\"\\n\")\n",
    "\n",
    "import time\n",
    "\n",
    "myset3 = myset1 | myset2\n",
    "print(\"-\"*10,\"集合并集\",\"-\"*10)\n",
    "print(myset3,'\\n')\n",
    "\n",
    "myset3 = myset1 & myset2\n",
    "print(\"-\"*10,\"集合交集\",\"-\"*10)\n",
    "print(myset3,'\\n')\n",
    "\n",
    "myset3 = myset1 - myset2\n",
    "print(\"-\"*10,\"集合差集\",\"-\"*10)\n",
    "print(f\"{myset1} 与 ({myset1} 和 {myset2} 的交集) 的差集\")\n",
    "print(myset3,'\\n')\n",
    "\n",
    "myset3 = myset1 ^ myset2\n",
    "print(\"-\"*10,\"集合对称差集\",\"-\"*10)\n",
    "print(f\"({myset1} 和 {myset2} 的并集) 与 ({myset1} 和 {myset2} 的交集) 的差集\")\n",
    "print(myset3,'\\n')\n",
    "\n",
    "\n",
    "# 集合运算两种形式的比较，通过多次运行，没有太看出时间上太大的差异，可能是元素有限的关系\n",
    "# 小样本的话可以选择直接用符号运算，写起来比较快。\n",
    "print(\"-\"*10,\"创建集合\",\"-\"*10)\n",
    "myset1 = set([1,2,3,5,6,7,8,10,12,34,5,6])\n",
    "myset2 = set([2,3,4,11,22,44,13,25,18,34])\n",
    "# set 集合方法\n",
    "start = time.time()\n",
    "myset3 = myset1.union(myset2)\n",
    "print(\"并集\",myset3)\n",
    "myset3 = myset1.intersection(myset2)\n",
    "print(\"交集\",myset3)\n",
    "myset3 = myset1.difference(myset2)\n",
    "print(\"差集\",myset3)\n",
    "myset3 = myset1.symmetric_difference(myset2)\n",
    "print(\"对称差集\",myset3)\n",
    "print(time.time()-start)\n",
    "\n",
    "start = time.time()\n",
    "myset3 = myset1 | myset2\n",
    "print(\"并集\",myset3)\n",
    "myset3 = myset1 & myset2\n",
    "print(\"交集\",myset3)\n",
    "myset3 = myset1 - myset2\n",
    "print(\"差集\",myset3)\n",
    "myset3 = myset1 ^ myset2\n",
    "print(\"对称差集\",myset3)\n",
    "print(time.time()-start)"
   ]
  },
  {
   "cell_type": "markdown",
   "metadata": {},
   "source": [
    "## 特殊集合"
   ]
  },
  {
   "cell_type": "markdown",
   "metadata": {},
   "source": [
    "### frozenset()"
   ]
  },
  {
   "cell_type": "code",
   "execution_count": 58,
   "metadata": {},
   "outputs": [],
   "source": [
    "myfrozenset = frozenset({'a','b','d','e'})"
   ]
  },
  {
   "cell_type": "code",
   "execution_count": 61,
   "metadata": {},
   "outputs": [
    {
     "name": "stdout",
     "output_type": "stream",
     "text": [
      "frozenset({'a', 'd', 'e', 'b'})\n"
     ]
    },
    {
     "ename": "AttributeError",
     "evalue": "'frozenset' object has no attribute 'add'",
     "output_type": "error",
     "traceback": [
      "\u001b[0;31m---------------------------------------------------------------------------\u001b[0m",
      "\u001b[0;31mAttributeError\u001b[0m                            Traceback (most recent call last)",
      "\u001b[0;32m<ipython-input-61-c419b8ac6d1d>\u001b[0m in \u001b[0;36m<module>\u001b[0;34m\u001b[0m\n\u001b[1;32m      1\u001b[0m \u001b[0mprint\u001b[0m\u001b[0;34m(\u001b[0m\u001b[0mmyfrozenset\u001b[0m\u001b[0;34m)\u001b[0m\u001b[0;34m\u001b[0m\u001b[0;34m\u001b[0m\u001b[0m\n\u001b[0;32m----> 2\u001b[0;31m \u001b[0mmyfrozenset\u001b[0m\u001b[0;34m.\u001b[0m\u001b[0madd\u001b[0m\u001b[0;34m(\u001b[0m\u001b[0;34m'c'\u001b[0m\u001b[0;34m)\u001b[0m\u001b[0;34m\u001b[0m\u001b[0;34m\u001b[0m\u001b[0m\n\u001b[0m\u001b[1;32m      3\u001b[0m \u001b[0;31m# frozenset 为不可变集合，创立了不可改变\u001b[0m\u001b[0;34m\u001b[0m\u001b[0;34m\u001b[0m\u001b[0;34m\u001b[0m\u001b[0m\n",
      "\u001b[0;31mAttributeError\u001b[0m: 'frozenset' object has no attribute 'add'"
     ]
    }
   ],
   "source": [
    "print(myfrozenset)\n",
    "myfrozenset.add('c')\n",
    "# frozenset 为不可变集合，创立了不可改变"
   ]
  }
 ],
 "metadata": {
  "kernelspec": {
   "display_name": "Python 3",
   "language": "python",
   "name": "python3"
  },
  "language_info": {
   "codemirror_mode": {
    "name": "ipython",
    "version": 3
   },
   "file_extension": ".py",
   "mimetype": "text/x-python",
   "name": "python",
   "nbconvert_exporter": "python",
   "pygments_lexer": "ipython3",
   "version": "3.7.8"
  }
 },
 "nbformat": 4,
 "nbformat_minor": 2
}
